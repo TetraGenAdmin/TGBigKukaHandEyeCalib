{
 "cells": [
  {
   "cell_type": "code",
   "execution_count": null,
   "metadata": {
    "collapsed": true
   },
   "outputs": [],
   "source": [
    "from kuka import Kuka\n",
    "\n",
    "kuka = Kuka('172.31.1.147', 54600)"
   ]
  },
  {
   "cell_type": "code",
   "execution_count": null,
   "outputs": [],
   "source": [
    "tcp,flange,_ = kuka.get_current_state()\n",
    "\n",
    "print(repr(tcp))\n",
    "print(repr(flange))"
   ],
   "metadata": {
    "collapsed": false
   }
  },
  {
   "cell_type": "code",
   "execution_count": 1,
   "outputs": [],
   "source": [
    "import numpy as np\n",
    "trans = np.array([ [ 0.719836, -0.556365,  0.415082, -25.600767],\n",
    "  [-0.689366, -0.643023,  0.333609,  85.402740],\n",
    "  [ 0.081299, -0.526288, -0.846411,  1219.318604],\n",
    "  [ 0.000000,  0.000000,  0.000000,  1.000000] ])\n",
    "np.savetxt('C:/Users/BhavinDharia/OneDrive - TetraGen Robotics Inc/Projects/02-Spence/Deploy/Spense_TGuide/x64/Release/ProgramData/transformations/camera/bTz.csv',trans,delimiter=\",\")"
   ],
   "metadata": {
    "collapsed": false
   }
  },
  {
   "cell_type": "code",
   "execution_count": null,
   "outputs": [],
   "source": [],
   "metadata": {
    "collapsed": false
   }
  }
 ],
 "metadata": {
  "kernelspec": {
   "display_name": "Python 3",
   "language": "python",
   "name": "python3"
  },
  "language_info": {
   "codemirror_mode": {
    "name": "ipython",
    "version": 2
   },
   "file_extension": ".py",
   "mimetype": "text/x-python",
   "name": "python",
   "nbconvert_exporter": "python",
   "pygments_lexer": "ipython2",
   "version": "2.7.6"
  }
 },
 "nbformat": 4,
 "nbformat_minor": 0
}
